{
 "cells": [
  {
   "cell_type": "code",
   "execution_count": null,
   "metadata": {},
   "outputs": [],
   "source": [
    "# res = compare_experiments_barplot(\n",
    "#     experiment_paths=[experiment_output_dir],\n",
    "#     title=\"TARS eval.\",\n",
    "# )\n",
    ""
   ]
  },
  {
   "cell_type": "markdown",
   "metadata": {},
   "source": [
    "## WANDB dev"
   ]
  },
  {
   "cell_type": "code",
   "execution_count": null,
   "metadata": {},
   "outputs": [],
   "source": [
    "from pathlib import Path\n",
    "\n",
    "import pandas as pd\n",
    "import yaml\n",
    "\n",
    "from data_util import create_multi_label_train_test_splits\n",
    "\n",
    "CONFIG = yaml.safe_load(\n",
    "    Path(\n",
    "        \"/Users/samhardyhey/Desktop/blog/blog-multi-label/train/training_config.yaml\"\n",
    "    ).read_bytes()\n",
    ")\n",
    "\n",
    "# 1.1 create splits\n",
    "df = pd.read_csv(CONFIG[\"dataset\"])\n",
    "train, test = create_multi_label_train_test_splits(\n",
    "    df, label_col=CONFIG[\"label_col\"], test_size=CONFIG[\"test_size\"]\n",
    ")\n",
    "test, dev = create_multi_label_train_test_splits(\n",
    "    test, label_col=CONFIG[\"label_col\"], test_size=CONFIG[\"test_size\"]\n",
    ")\n",
    "\n",
    "# # 1.2 log splits\n",
    "# with wandb.init(\n",
    "#     project=CONFIG[\"wandb_project\"],\n",
    "#     name=\"reddit_aus_finance\",\n",
    "#     group=CONFIG[\"wandb_group\"],\n",
    "#     entity=\"cool_stonebreaker\",\n",
    "# ) as run:\n",
    "#     log_dataframe(run, train, \"train_split\", \"Train split\")\n",
    "#     log_dataframe(run, dev, \"dev_split\", \"Dev split\")\n",
    "#     log_dataframe(run, test, \"test_split\", \"Test split\")\n",
    ""
   ]
  },
  {
   "cell_type": "markdown",
   "metadata": {},
   "source": [
    "## Dictionary classifier"
   ]
  },
  {
   "cell_type": "code",
   "execution_count": null,
   "metadata": {},
   "outputs": [],
   "source": [
    "from model_util import fit_and_log_dictionary_classifier, fit_and_log_linear_svc\n",
    "\n",
    "for model in CONFIG[\"models\"]:\n",
    "    model[\"model\"]\n",
    "    # if model['name'] == 'dictionary_classifier':\n",
    "    #     fit_and_log_dictionary_classifier(train, dev, test, model)\n",
    "\n",
    "    # elif model['name'] == 'sklearn_linear_svc':\n",
    "    #     fit_and_log_linear_svc(train, dev, test, model)\n",
    "\n",
    "    # else:\n",
    "    #     print(f\"Unsupported model: {model['name']} found\")\n",
    ""
   ]
  },
  {
   "cell_type": "code",
   "execution_count": null,
   "metadata": {},
   "outputs": [],
   "source": [
    "# mock multiple model runs for a single group\n",
    "    model_config = CONFIG[\"models\"][0]\n",
    "\n",
    "    dc = DictionaryClassifier(\n",
    "        classifier_type=model_config[\"classifier_type\"],\n",
    "        label_dictionary=model_config[\"label_dictionary\"],\n",
    "    )\n",
    "\n",
    "    # get train/test performance > log as model artefacts?\n",
    "    dev_pred = dev.assign(\n",
    "        pred=lambda x: x[CONFIG[\"text_col\"]].apply(dc.predict_single))\n",
    "    test_pred = test.assign(\n",
    "        pred=lambda x: x[CONFIG[\"text_col\"]].apply(dc.predict_single))\n",
    "\n",
    "    label_names = label_dictionary_to_label_mat(\n",
    "        test_pred.pred).columns.tolist()\n",
    "    class_report = (pd.DataFrame(classification_report(\n",
    "        label_dictionary_to_label_mat(test[CONFIG[\"label_col\"]]),\n",
    "        label_dictionary_to_label_mat(test_pred.pred),\n",
    "        target_names=label_names,\n",
    "        output_dict=True,\n",
    "    ))\n",
    "        .T\n",
    "        .reset_index()\n",
    "        .rename(mapper={\"index\": \"label\"}, axis=\"columns\", inplace=False)\n",
    "    )\n",
    "\n",
    "    slim_class_report = (\n",
    "        class_report\n",
    "        .query('label in @label_names')\n",
    "        .pipe(lambda x: x[[\"label\", \"f1-score\", \"support\"]])\n",
    "        .set_index(\"label\")\n",
    "        .to_dict(orient=\"index\")\n",
    "    )\n",
    "\n",
    "    # seperate models as seperate runs\n",
    "    with wandb.init(\n",
    "        project=CONFIG[\"wandb_project\"],\n",
    "        name=model_config['model'],\n",
    "        group=CONFIG[\"wandb_group\"],\n",
    "        entity=\"cool_stonebreaker\",\n",
    "    ) as run:\n",
    "        wandb.config.model = model_config['model']\n",
    "        wandb.config.group = CONFIG[\"wandb_group\"]\n",
    "\n",
    "        # log dev/pred preds\n",
    "        log_dataframe(run, dev_pred, \"dev_preds\", \"Dev predictions\")\n",
    "        log_dataframe(run, test_pred, \"test_preds\", \"Test predictions\")\n",
    "\n",
    "        run.log(slim_class_report)\n",
    "        run.summary[\"test_f1\"] = class_report.query(\n",
    "            'label == \"weighted avg\"')['f1-score'].iloc[0]\n",
    "        run.summary[\"test_support\"] = class_report.query(\n",
    "            'label == \"weighted avg\"')['support'].iloc[0]\n",
    "\n",
    "    # seperate models as seperate runs\n",
    "    with wandb.init(\n",
    "        project=CONFIG[\"wandb_project\"],\n",
    "        name=\"flair_tars\",\n",
    "        group=CONFIG[\"wandb_group\"],\n",
    "        entity=\"cool_stonebreaker\",\n",
    "    ) as run:\n",
    "        wandb.config.model = \"flair_tars\"\n",
    "        wandb.config.group = CONFIG[\"wandb_group\"]\n",
    "\n",
    "        # log dev/pred preds\n",
    "        log_dataframe(run, dev_pred, \"dev_preds\", \"Dev predictions\")\n",
    "        log_dataframe(run, test_pred, \"test_preds\", \"Test predictions\")\n",
    "\n",
    "        run.log(slim_class_report)\n",
    "        run.summary[\"test_f1\"] = class_report.query(\n",
    "            'label == \"weighted avg\"')['f1-score'].iloc[0]\n",
    "        run.summary[\"test_support\"] = class_report.query(\n",
    "            'label == \"weighted avg\"')['support'].iloc[0]"
   ]
  },
  {
   "cell_type": "markdown",
   "metadata": {},
   "source": [
    "## WANDB misc"
   ]
  },
  {
   "cell_type": "code",
   "execution_count": null,
   "metadata": {},
   "outputs": [],
   "source": [
    "# clear out for dev purposes\n",
    "import wandb\n",
    "\n",
    "api = wandb.Api()\n",
    "\n",
    "for run in api.runs(path=\"cool_stonebreaker/tyre_kick\"):\n",
    "    run = api.run(f\"cool_stonebreaker/tyre_kick/{run.id}\")\n",
    "    run.delete()\n",
    ""
   ]
  },
  {
   "cell_type": "code",
   "execution_count": null,
   "metadata": {},
   "outputs": [],
   "source": [
    "!pip install plotly"
   ]
  },
  {
   "cell_type": "code",
   "execution_count": null,
   "metadata": {},
   "outputs": [],
   "source": [
    "import matplotlib.pyplot as plt\n",
    "\n",
    "import wandb\n",
    "\n",
    "fibonacci = [0, 1, 1, 2, 3, 5, 8, 13, 21, 34]\n",
    "plt.plot(fibonacci)\n",
    "plt.ylabel(\"some interesting numbers\")\n",
    "\n",
    "# Initialize run\n",
    "with wandb.init(\n",
    "    project=CONFIG[\"wandb_project\"],\n",
    "    name=\"flair_tars\",\n",
    "    group=CONFIG[\"wandb_group\"],\n",
    "    entity=\"cool_stonebreaker\",\n",
    ") as run:\n",
    "\n",
    "    # Log plot object\n",
    "    wandb.log({\"plot\": plt})\n",
    ""
   ]
  }
 ],
 "metadata": {
  "kernelspec": {
   "display_name": "Python 3.8.13 ('p38')",
   "language": "python",
   "name": "python3"
  },
  "language_info": {
   "codemirror_mode": {
    "name": "ipython",
    "version": 3
   },
   "file_extension": ".py",
   "mimetype": "text/x-python",
   "name": "python",
   "nbconvert_exporter": "python",
   "pygments_lexer": "ipython3",
   "version": "3.8.13"
  },
  "vscode": {
   "interpreter": {
    "hash": "bb0121aec9e40b71ec9730e04f00957539fc5aa06febb00ef12b9b6cf43c877e"
   }
  }
 },
 "nbformat": 4,
 "nbformat_minor": 2
}
