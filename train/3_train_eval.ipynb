{
 "cells": [
  {
   "cell_type": "code",
   "execution_count": null,
   "metadata": {},
   "outputs": [],
   "source": [
    "# res = compare_experiments_barplot(\n",
    "#     experiment_paths=[experiment_output_dir],\n",
    "#     title=\"TARS eval.\",\n",
    "# )\n"
   ]
  },
  {
   "cell_type": "markdown",
   "metadata": {},
   "source": [
    "## WANDB dev"
   ]
  },
  {
   "cell_type": "code",
   "execution_count": null,
   "metadata": {},
   "outputs": [],
   "source": [
    "from pathlib import Path\n",
    "\n",
    "import pandas as pd\n",
    "import yaml\n",
    "\n",
    "from data_util import create_multi_label_train_test_splits\n",
    "\n",
    "CONFIG = yaml.safe_load(\n",
    "    Path(\n",
    "        \"/Users/samhardyhey/Desktop/blog/blog-multi-label/train/train_config.yaml\"\n",
    "    ).read_bytes()\n",
    ")\n",
    "\n",
    "# 1.1 create splits\n",
    "df = pd.read_csv(CONFIG[\"dataset\"])\n",
    "train_split, test_split = create_multi_label_train_test_splits(\n",
    "    df, label_col=CONFIG[\"label_col\"], test_size=CONFIG[\"test_size\"]\n",
    ")\n",
    "test_split, dev_split = create_multi_label_train_test_splits(\n",
    "    test_split, label_col=CONFIG[\"label_col\"], test_size=CONFIG[\"test_size\"]\n",
    ")\n",
    "\n",
    "# # 1.2 log splits\n",
    "# with wandb.init(\n",
    "#     project=CONFIG[\"wandb_project\"],\n",
    "#     name=\"reddit_aus_finance\",\n",
    "#     group=CONFIG[\"wandb_group\"],\n",
    "#     entity=\"cool_stonebreaker\",\n",
    "# ) as run:\n",
    "#     log_dataframe(run, train, \"train_split\", \"Train split\")\n",
    "#     log_dataframe(run, dev, \"dev_split\", \"Dev split\")\n",
    "#     log_dataframe(run, test, \"test_split\", \"Test split\")\n"
   ]
  },
  {
   "cell_type": "markdown",
   "metadata": {},
   "source": [
    "## Dictionary classifier"
   ]
  },
  {
   "cell_type": "code",
   "execution_count": null,
   "metadata": {},
   "outputs": [],
   "source": [
    "from model_util import fit_and_log_dictionary_classifier, fit_and_log_linear_svc\n",
    "\n",
    "for model in CONFIG[\"models\"]:\n",
    "    model[\"model\"]\n",
    "    # if model['name'] == 'dictionary_classifier':\n",
    "    #     fit_and_log_dictionary_classifier(train, dev, test, model)\n",
    "\n",
    "    # elif model['name'] == 'sklearn_linear_svc':\n",
    "    #     fit_and_log_linear_svc(train, dev, test, model)\n",
    "\n",
    "    # else:\n",
    "    #     print(f\"Unsupported model: {model['name']} found\")\n"
   ]
  },
  {
   "cell_type": "markdown",
   "metadata": {},
   "source": [
    "## Flair"
   ]
  },
  {
   "cell_type": "code",
   "execution_count": null,
   "metadata": {},
   "outputs": [],
   "source": [
    "from flair.data import Corpus, Sentence, Token\n",
    "from flair.models import SequenceTagger, TARSClassifier, TARSTagger, TextClassifier\n",
    "from flair.tokenization import SegtokTokenizer\n",
    "\n",
    "sent = Sentence(\"hello world\", use_tokenizer=SegtokTokenizer())\n"
   ]
  },
  {
   "cell_type": "code",
   "execution_count": null,
   "metadata": {},
   "outputs": [],
   "source": [
    "import pandas as pd\n",
    "from clear_bow.classifier import DictionaryClassifier\n",
    "from flair.data import Corpus, Sentence\n",
    "from flair.models import TARSClassifier\n",
    "from flair.tokenization import SegtokTokenizer\n",
    "from flair.trainers import ModelTrainer\n",
    "from sklearn.feature_extraction.text import TfidfVectorizer\n",
    "from sklearn.feature_selection import VarianceThreshold\n",
    "from sklearn.pipeline import Pipeline\n",
    "from sklearn.svm import LinearSVC\n",
    "from skmultilearn.problem_transform import BinaryRelevance\n",
    "\n",
    "import wandb\n",
    "from data_util import log_dataframe\n",
    "from eval_util import (\n",
    "    create_classification_report,\n",
    "    create_slim_classification_report,\n",
    "    label_dictionary_to_label_mat,\n",
    ")\n"
   ]
  },
  {
   "cell_type": "code",
   "execution_count": null,
   "metadata": {},
   "outputs": [],
   "source": [
    "def create_flair_classification_sentence(text, label_object, label_type=\"class\"):\n",
    "    sentence = Sentence(text, use_tokenizer=SegtokTokenizer())\n",
    "    for label in [k for k, v in label_object.items() if v > 0]:\n",
    "        sentence.add_label(label_type, label, 1.0)\n",
    "    return sentence\n",
    "\n",
    "\n",
    "def predict_flair_tars(text, flair_tars_model):\n",
    "    sentence = Sentence(text)\n",
    "    labels = flair_tars_model.get_current_label_dictionary().get_items()\n",
    "    flair_tars_model.predict(sentence)\n",
    "    pred_dict = {label: 0.0 for label in labels}\n",
    "    for e in sentence.labels:\n",
    "        label = e.to_dict()[\"value\"]\n",
    "        confidence = round(float(e.to_dict()[\"confidence\"]), 2)\n",
    "        pred_dict[label] = confidence\n",
    "    return pred_dict\n"
   ]
  },
  {
   "cell_type": "code",
   "execution_count": null,
   "metadata": {},
   "outputs": [],
   "source": [
    "from model_util import fit_and_log_flair_tars\n",
    "\n",
    "model_config = CONFIG[\"models\"][-1]\n",
    "\n",
    "with wandb.init(\n",
    "    project=CONFIG[\"wandb_project\"],\n",
    "    name=model_config[\"type\"],\n",
    "    group=CONFIG[\"wandb_group\"],\n",
    "    entity=CONFIG[\"wandb_entity\"],\n",
    ") as run:\n",
    "    wandb.config.type = model_config[\"type\"]\n",
    "    wandb.config.group = CONFIG[\"wandb_group\"]\n",
    "    label_type = model_config.get(\"label_type\", \"multi_label_class\")\n",
    "\n",
    "    train_dev = pd.concat([train_split, dev_split], sort=True)\n",
    "    train_sents = (\n",
    "        pd.concat([train_split, dev_split], sort=True)\n",
    "        .apply(\n",
    "            lambda x: create_flair_classification_sentence(\n",
    "                x[CONFIG[\"text_col\"]], x[CONFIG[\"label_col\"]], label_type\n",
    "            ),\n",
    "            axis=1,\n",
    "        )\n",
    "        .tolist()\n",
    "    )\n",
    "    test_sents = test_split.apply(\n",
    "        lambda x: create_flair_classification_sentence(\n",
    "            x[CONFIG[\"text_col\"]], x[CONFIG[\"label_col\"]], label_type\n",
    "        ),\n",
    "        axis=1,\n",
    "    ).tolist()\n",
    "\n",
    "    # make a corpus with train and test split\n",
    "    corpus = Corpus(train=train_sents, test=test_sents)\n",
    "\n",
    "    # train a tiny model, with tiny parameters\n",
    "    tars = TARSClassifier.load(\"tars-base\")\n",
    "\n",
    "    # 2. make the model aware of the desired set of labels from the new corpus\n",
    "    tars.add_and_switch_to_new_task(\n",
    "        task_name=label_type,\n",
    "        label_dictionary=corpus.make_label_dictionary(label_type),\n",
    "        label_type=label_type,\n",
    "        multi_label=True,\n",
    "    )\n",
    "\n",
    "    # 3. initialize the text classifier trainer with your corpus\n",
    "    trainer = ModelTrainer(tars, corpus)\n",
    "\n",
    "    # 4. train model\n",
    "    with tempfile.TemporaryDirectory() as artefact_dir:\n",
    "        trainer.train(\n",
    "            base_path=artefact_dir,  # path to store the model artifacts\n",
    "            learning_rate=model_config.get(\n",
    "                \"learning_rate\", 0.02\n",
    "            ),  # use very small learning rate\n",
    "            mini_batch_size=model_config.get(\n",
    "                \"mini_batch_size\", 1\n",
    "            ),  # small mini-batch size since corpus is tiny\n",
    "            max_epochs=model_config.get(\"max_epochs\", 10),\n",
    "            save_final_model=model_config.get(\"max_epochs\", False),\n",
    "        )\n",
    "        trainer.model.save(Path(artefact_dir) / \"final-model.pt\", checkpoint=False)\n"
   ]
  },
  {
   "cell_type": "code",
   "execution_count": null,
   "metadata": {},
   "outputs": [],
   "source": [
    "test_preds = test_split.assign(\n",
    "    pred=test_split[CONFIG[\"text_col\"]].apply(lambda y: predict_flair_tars(y, tars))\n",
    ")\n"
   ]
  },
  {
   "cell_type": "code",
   "execution_count": null,
   "metadata": {},
   "outputs": [],
   "source": [
    "create_classification_report(test_split, test_preds, CONFIG)\n"
   ]
  },
  {
   "cell_type": "code",
   "execution_count": null,
   "metadata": {},
   "outputs": [],
   "source": [
    "sentence = corpus.test[1]\n",
    "tars.predict(sentence)\n"
   ]
  },
  {
   "cell_type": "code",
   "execution_count": null,
   "metadata": {},
   "outputs": [],
   "source": [
    "predict_flair_tars(\"hello world\", tars)\n"
   ]
  },
  {
   "cell_type": "code",
   "execution_count": null,
   "metadata": {},
   "outputs": [],
   "source": [
    "sentence.labels\n"
   ]
  },
  {
   "cell_type": "markdown",
   "metadata": {},
   "source": [
    "## WANDB misc"
   ]
  },
  {
   "cell_type": "code",
   "execution_count": null,
   "metadata": {},
   "outputs": [],
   "source": [
    "# clear out for dev purposes\n",
    "import wandb\n",
    "\n",
    "api = wandb.Api()\n",
    "\n",
    "for run in api.runs(path=\"cool_stonebreaker/tyre_kick\"):\n",
    "    run = api.run(f\"cool_stonebreaker/tyre_kick/{run.id}\")\n",
    "    run.delete()\n"
   ]
  },
  {
   "cell_type": "code",
   "execution_count": null,
   "metadata": {},
   "outputs": [],
   "source": [
    "!pip install plotly"
   ]
  },
  {
   "cell_type": "code",
   "execution_count": null,
   "metadata": {},
   "outputs": [],
   "source": [
    "import matplotlib.pyplot as plt\n",
    "\n",
    "import wandb\n",
    "\n",
    "fibonacci = [0, 1, 1, 2, 3, 5, 8, 13, 21, 34]\n",
    "plt.plot(fibonacci)\n",
    "plt.ylabel(\"some interesting numbers\")\n",
    "\n",
    "# Initialize run\n",
    "with wandb.init(\n",
    "    project=CONFIG[\"wandb_project\"],\n",
    "    name=\"flair_tars\",\n",
    "    group=CONFIG[\"wandb_group\"],\n",
    "    entity=\"cool_stonebreaker\",\n",
    ") as run:\n",
    "\n",
    "    # Log plot object\n",
    "    wandb.log({\"plot\": plt})\n"
   ]
  }
 ],
 "metadata": {
  "kernelspec": {
   "display_name": "Python 3.8.13 ('p38')",
   "language": "python",
   "name": "python3"
  },
  "language_info": {
   "codemirror_mode": {
    "name": "ipython",
    "version": 3
   },
   "file_extension": ".py",
   "mimetype": "text/x-python",
   "name": "python",
   "nbconvert_exporter": "python",
   "pygments_lexer": "ipython3",
   "version": "3.8.13"
  },
  "vscode": {
   "interpreter": {
    "hash": "bb0121aec9e40b71ec9730e04f00957539fc5aa06febb00ef12b9b6cf43c877e"
   }
  }
 },
 "nbformat": 4,
 "nbformat_minor": 2
}
